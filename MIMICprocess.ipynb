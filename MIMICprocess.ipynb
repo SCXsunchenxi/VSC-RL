{
 "cells": [
  {
   "cell_type": "code",
   "execution_count": 1,
   "metadata": {},
   "outputs": [],
   "source": [
    "import sys\n",
    "import cPickle as pickle\n",
    "from datetime import datetime\n",
    "import numpy as np\n",
    "import random\n",
    "import math"
   ]
  },
  {
   "cell_type": "code",
   "execution_count": 2,
   "metadata": {},
   "outputs": [],
   "source": [
    "# icd-9编码处理\n",
    "\n",
    "# 还原icd，保留最后两位小数点\n",
    "def convert_to_icd9(dxStr):\n",
    "    if dxStr.startswith('E'):\n",
    "        if len(dxStr) > 4:\n",
    "            return dxStr[:4] + '.' + dxStr[4:]\n",
    "        else:\n",
    "            return dxStr\n",
    "    else:\n",
    "        if len(dxStr) > 3:\n",
    "            return dxStr[:3] + '.' + dxStr[3:]\n",
    "        else:\n",
    "            return dxStr\n",
    "        \n",
    "# 只取前三位数据，不保留小数点\n",
    "def convert_to_3digit_icd9(dxStr):\n",
    "    if dxStr.startswith('E'):\n",
    "        if len(dxStr) > 4:\n",
    "            return dxStr[:4]\n",
    "        else:\n",
    "            return dxStr\n",
    "    else:\n",
    "        if len(dxStr) > 3:\n",
    "            return dxStr[:3]\n",
    "        else:\n",
    "            return dxStr"
   ]
  },
  {
   "cell_type": "code",
   "execution_count": 3,
   "metadata": {},
   "outputs": [],
   "source": [
    "# 文件输入和输出路径\n",
    "admissionFile = '数据/ADMISSIONS.csv'\n",
    "diagnosisFile = '数据/DIAGNOSES_ICD.csv'\n",
    "patientinfoFile='数据/PATIENTS.csv'\n",
    "outFile = 'SEQ_full'"
   ]
  },
  {
   "cell_type": "code",
   "execution_count": 4,
   "metadata": {},
   "outputs": [
    {
     "name": "stdout",
     "output_type": "stream",
     "text": [
      "Building pid-admission mapping, pid-death mapping, admission-date mapping\n"
     ]
    }
   ],
   "source": [
    "# pidAdmMap映射pid到admid，admDateMap映射admid到admtime\n",
    "print 'Building pid-admission mapping, pid-death mapping, admission-date mapping'\n",
    "all_death_num=0\n",
    "pidAdmMap = {}\n",
    "admDateMap = {}\n",
    "pidDeathMap= {}\n",
    "infd = open(admissionFile, 'r')\n",
    "infd.readline()\n",
    "for line in infd:\n",
    "    tokens = line.strip().split(',')\n",
    "    pid = int(tokens[1])\n",
    "    admId = int(tokens[2])\n",
    "    admTime = datetime.strptime(tokens[3], '%Y-%m-%d %H:%M:%S')\n",
    "    admDateMap[admId] = admTime\n",
    "    if pid in pidAdmMap:\n",
    "        pidAdmMap[pid].append(admId)\n",
    "    else:\n",
    "        pidAdmMap[pid] = [admId]\n",
    "    if tokens[5] != '':\n",
    "        pidDeathMap[pid]=1\n",
    "        all_death_num+=1\n",
    "    else:\n",
    "        if pid not in pidDeathMap:\n",
    "            pidDeathMap[pid]=0      \n",
    "infd.close()"
   ]
  },
  {
   "cell_type": "code",
   "execution_count": 5,
   "metadata": {},
   "outputs": [
    {
     "name": "stdout",
     "output_type": "stream",
     "text": [
      "Building patient information\n"
     ]
    }
   ],
   "source": [
    "# pidGenBirthMap人的基本信息（性别、年龄、婚姻、人种、宗教），先使用性别和年龄\n",
    "print 'Building patient information'\n",
    "pidGenBirthMap={}\n",
    "infd = open(patientinfoFile, 'r')\n",
    "infd.readline();\n",
    "for line in infd:\n",
    "    tokens = line.strip().split(',')\n",
    "    pid = int(tokens[1])\n",
    "    if tokens[2]=='F':gender = 0\n",
    "    else: gender = 1\n",
    "    birth = datetime.strptime(tokens[3], '%Y-%m-%d %H:%M:%S')\n",
    "    pidGenBirthMap[pid] = [gender,birth]\n",
    "infd.close()"
   ]
  },
  {
   "cell_type": "code",
   "execution_count": 6,
   "metadata": {},
   "outputs": [
    {
     "name": "stdout",
     "output_type": "stream",
     "text": [
      "Building admission-dxList mapping\n"
     ]
    }
   ],
   "source": [
    "# 创建admission-dxList mapping，admDxMap映射admid到在这个住院中的诊断的icd9码\n",
    "print 'Building admission-dxList mapping'\n",
    "admDxMap = {}\n",
    "admDxMap_3digit = {}\n",
    "dx_icd={} #icd和dx的映射\n",
    "dx_icd2={} #前面是dx码，后面是icd码\n",
    "infd = open(diagnosisFile, 'r')\n",
    "infd.readline()\n",
    "raw_all_codes_num=0\n",
    "for line in infd:\n",
    "    raw_all_codes_num+=1\n",
    "    tokens = line.strip().split(',')\n",
    "    admId = int(tokens[2])\n",
    "    dxStr = 'D_' + convert_to_icd9(tokens[4])\n",
    "    dxStr_3digit = 'D_' + convert_to_3digit_icd9(tokens[4])\n",
    "    \n",
    "    if admId in admDxMap:\n",
    "        admDxMap[admId].append(dxStr)\n",
    "    else:\n",
    "        admDxMap[admId] = [dxStr]\n",
    "\n",
    "    if admId in admDxMap_3digit:\n",
    "        admDxMap_3digit[admId].append(dxStr_3digit)\n",
    "    else:\n",
    "        admDxMap_3digit[admId] = [dxStr_3digit]\n",
    "        \n",
    "    if dxStr in dx_icd:\n",
    "        continue\n",
    "    else:\n",
    "        dx_icd[dxStr]=tokens[4]\n",
    "        dx_icd2[tokens[4]]=dxStr\n",
    "infd.close()"
   ]
  },
  {
   "cell_type": "code",
   "execution_count": 7,
   "metadata": {},
   "outputs": [
    {
     "name": "stdout",
     "output_type": "stream",
     "text": [
      "Building pid-sortedVisits mapping\n"
     ]
    }
   ],
   "source": [
    "# sortedList按照时间储存了[时间，icd9诊断]对，pidSeqMap存入每个病人的sortedList\n",
    "print 'Building pid-sortedVisits mapping'\n",
    "pidSeqMap = {}\n",
    "pidSeqMap_3digit = {}\n",
    "for pid, admIdList in pidAdmMap.iteritems():\n",
    "    if len(admIdList) < 2: continue\n",
    "\n",
    "    sortedList = sorted([(admDateMap[admId], admDxMap[admId]) for admId in admIdList])\n",
    "    pidSeqMap[pid] = sortedList\n",
    "\n",
    "    sortedList_3digit = sorted([(admDateMap[admId], admDxMap_3digit[admId]) for admId in admIdList])\n",
    "    pidSeqMap_3digit[pid] = sortedList_3digit"
   ]
  },
  {
   "cell_type": "markdown",
   "metadata": {},
   "source": [
    "# 提取HF的病人记录"
   ]
  },
  {
   "cell_type": "code",
   "execution_count": 36,
   "metadata": {},
   "outputs": [],
   "source": [
    "# 心力衰竭的病人记录\n",
    "HF_patient={}\n",
    "for i in pidSeqMap:\n",
    "    for j in range(len(pidSeqMap[i])):\n",
    "        code=pidSeqMap[i][j][1]\n",
    "        for dx in code:\n",
    "            if (dx == 'D_\"42.80\"') or (dx == 'D_\"42.81\"')or(dx == 'D_\"42.82\"')or(dx == 'D_\"42.83\"')or(dx == 'D_\"42.84\"')or (dx == 'D_\"42.89\"')or(dx == 'D_\"42.820\"')or(dx == 'D_\"42.821\"')or(dx == 'D_\"42.822\"')or(dx == 'D_\"42.823\"')or(dx == 'D_\"42.830\"')or(dx == 'D_\"42.831\"')or(dx == 'D_\"42.832\"')or(dx == 'D_\"42.833\"')or(dx == 'D_\"42.840\"')or(dx == 'D_\"42.841\"')or(dx == 'D_\"42.842\"')or(dx == 'D_\"42.843\"'):\n",
    "                if i in HF_patient:\n",
    "                    continue\n",
    "                else:\n",
    "                    HF_patient[i]=pidSeqMap[i]"
   ]
  },
  {
   "cell_type": "code",
   "execution_count": 37,
   "metadata": {},
   "outputs": [
    {
     "data": {
      "text/plain": [
       "3370"
      ]
     },
     "execution_count": 37,
     "metadata": {},
     "output_type": "execute_result"
    }
   ],
   "source": [
    "len(HF_patient)"
   ]
  },
  {
   "cell_type": "code",
   "execution_count": 74,
   "metadata": {},
   "outputs": [],
   "source": [
    "# 心力衰竭的住院记录\n",
    "HF_record={}\n",
    "record_code=[]\n",
    "last_adm=[]\n",
    "n=0\n",
    "for i in pidSeqMap:\n",
    "    for j in range(len(pidSeqMap[i])):\n",
    "        code=pidSeqMap[i][j][1]\n",
    "        for dx in code:\n",
    "            if (dx == 'D_\"42.80\"') or (dx == 'D_\"42.81\"')or(dx == 'D_\"42.82\"')or(dx == 'D_\"42.83\"')or(dx == 'D_\"42.84\"')or (dx == 'D_\"42.89\"')or(dx == 'D_\"42.820\"')or(dx == 'D_\"42.821\"')or(dx == 'D_\"42.822\"')or(dx == 'D_\"42.823\"')or(dx == 'D_\"42.830\"')or(dx == 'D_\"42.831\"')or(dx == 'D_\"42.832\"')or(dx == 'D_\"42.833\"')or(dx == 'D_\"42.840\"')or(dx == 'D_\"42.841\"')or(dx == 'D_\"42.842\"')or(dx == 'D_\"42.843\"'):\n",
    "                if (j==len(pidSeqMap[i])-1):\n",
    "                    last_adm.append(i)\n",
    "                HF_record[n]=pidSeqMap[i][j]\n",
    "                n=n+1\n",
    "                record_code.append(i)           "
   ]
  },
  {
   "cell_type": "code",
   "execution_count": 75,
   "metadata": {},
   "outputs": [
    {
     "data": {
      "text/plain": [
       "4323"
      ]
     },
     "execution_count": 75,
     "metadata": {},
     "output_type": "execute_result"
    }
   ],
   "source": [
    "len(last_adm)"
   ]
  },
  {
   "cell_type": "code",
   "execution_count": 76,
   "metadata": {},
   "outputs": [
    {
     "data": {
      "text/plain": [
       "10760"
      ]
     },
     "execution_count": 76,
     "metadata": {},
     "output_type": "execute_result"
    }
   ],
   "source": [
    "#记录的总个数\n",
    "len(record_code)"
   ]
  },
  {
   "cell_type": "code",
   "execution_count": 77,
   "metadata": {},
   "outputs": [],
   "source": [
    "# 最后一次死亡的\n",
    "death_code_num=0\n",
    "for i in range(len(last_adm)):\n",
    "    if pidDeathMap[last_adm[i]]==1:\n",
    "        death_code_num+=1"
   ]
  },
  {
   "cell_type": "code",
   "execution_count": 78,
   "metadata": {},
   "outputs": [
    {
     "data": {
      "text/plain": [
       "983"
      ]
     },
     "execution_count": 78,
     "metadata": {},
     "output_type": "execute_result"
    }
   ],
   "source": [
    "death_code_num"
   ]
  },
  {
   "cell_type": "markdown",
   "metadata": {},
   "source": [
    "# 提取Sepsis的病人记录"
   ]
  },
  {
   "cell_type": "code",
   "execution_count": 57,
   "metadata": {},
   "outputs": [],
   "source": [
    "# 败血症衰竭的病人记录\n",
    "Sep_patient={}\n",
    "for i in pidSeqMap:\n",
    "    for j in range(len(pidSeqMap[i])):\n",
    "        code=pidSeqMap[i][j][1]\n",
    "        for dx in code:\n",
    "            if (dx == 'D_\"99.592\"') :\n",
    "                if i in HF_patient:\n",
    "                    continue\n",
    "                else:\n",
    "                    Sep_patient[i]=pidSeqMap[i]"
   ]
  },
  {
   "cell_type": "code",
   "execution_count": 58,
   "metadata": {},
   "outputs": [
    {
     "data": {
      "text/plain": [
       "624"
      ]
     },
     "execution_count": 58,
     "metadata": {},
     "output_type": "execute_result"
    }
   ],
   "source": [
    "#患病病人个数\n",
    "len(Sep_patient)"
   ]
  },
  {
   "cell_type": "code",
   "execution_count": 88,
   "metadata": {},
   "outputs": [],
   "source": [
    "# 败血症的住院记录\n",
    "Sep_record={}\n",
    "sep_record_code=[]\n",
    "sep_last_ad=[]\n",
    "n=0\n",
    "for i in pidSeqMap:\n",
    "    for j in range(len(pidSeqMap[i])):\n",
    "        code=pidSeqMap[i][j][1]\n",
    "        for dx in code:\n",
    "            if (dx == 'D_\"99.591\"') or(dx == 'D_\"99.592\"') or (dx == 'D_\"99.593\"')or  (dx == 'D_\"99.594\"'):\n",
    "                if (j==len(pidSeqMap[i])-1):\n",
    "                    sep_last_ad.append(i)\n",
    "                Sep_record[n]=pidSeqMap[i][j]\n",
    "                n=n+1\n",
    "                sep_record_code.append(i)"
   ]
  },
  {
   "cell_type": "code",
   "execution_count": 89,
   "metadata": {},
   "outputs": [
    {
     "data": {
      "text/plain": [
       "2499"
      ]
     },
     "execution_count": 89,
     "metadata": {},
     "output_type": "execute_result"
    }
   ],
   "source": [
    "len(sep_record_code)"
   ]
  },
  {
   "cell_type": "code",
   "execution_count": 90,
   "metadata": {},
   "outputs": [
    {
     "data": {
      "text/plain": [
       "1260"
      ]
     },
     "execution_count": 90,
     "metadata": {},
     "output_type": "execute_result"
    }
   ],
   "source": [
    "len(sep_last_ad)"
   ]
  },
  {
   "cell_type": "code",
   "execution_count": 91,
   "metadata": {},
   "outputs": [],
   "source": [
    "# 死亡的\n",
    "sep_death_code_num=0\n",
    "for i in range(len(sep_last_ad)):\n",
    "    if pidDeathMap[sep_last_ad[i]]==1:\n",
    "        sep_death_code_num+=1"
   ]
  },
  {
   "cell_type": "code",
   "execution_count": 92,
   "metadata": {},
   "outputs": [
    {
     "data": {
      "text/plain": [
       "561"
      ]
     },
     "execution_count": 92,
     "metadata": {},
     "output_type": "execute_result"
    }
   ],
   "source": [
    "sep_death_code_num"
   ]
  },
  {
   "cell_type": "code",
   "execution_count": null,
   "metadata": {},
   "outputs": [],
   "source": []
  },
  {
   "cell_type": "code",
   "execution_count": 27,
   "metadata": {},
   "outputs": [
    {
     "name": "stdout",
     "output_type": "stream",
     "text": [
      "Building pids, dates, strSeqs, visits_num, codes_num, patientsinfo, death_labels\n",
      "Building pids, dates, strSeqs for 3digit ICD9 code\n"
     ]
    }
   ],
   "source": [
    "1# 创建病人id--pid；visit时间--date；诊断--seq, 每个病人visit的个数--visits_num, 每个visit中code的个数codes_num，病人性别和出生日期patientsinfo\n",
    "print 'Building pids, dates, strSeqs, visits_num, codes_num, patientsinfo, death_labels'\n",
    "death_num=0 #住院中死亡的人数\n",
    "pids = []\n",
    "dates = []\n",
    "seqs = []\n",
    "visits_num = []\n",
    "codes_num = []\n",
    "all_codes_num = []\n",
    "patientsinfo = [] # 性别和出生日期\n",
    "death_labels=[]\n",
    "for pid, visits in pidSeqMap.iteritems():\n",
    "    pids.append(pid)\n",
    "    visits_num.append([len(visits)])\n",
    "    seq = []\n",
    "    date = []\n",
    "    code_num = []\n",
    "    all_code_num=0\n",
    "    patientsinfo.append(pidGenBirthMap[pid])\n",
    "    if pidDeathMap[pid] == 1:\n",
    "        death_labels.append([0,1])\n",
    "        death_num+=1\n",
    "    else: death_labels.append([1,0])\n",
    "    for visit in visits:\n",
    "        date.append(visit[0])\n",
    "        seq.append(visit[1])\n",
    "        code_num.append(len(visit[1]))\n",
    "        all_code_num+=len(visit[1])\n",
    "    dates.append(date)\n",
    "    seqs.append(seq)\n",
    "    codes_num.append(code_num)\n",
    "    all_codes_num.append(all_code_num)\n",
    "# 创建病人id字典，重新编号\n",
    "type_pids={}\n",
    "for i in range(len(pids)):\n",
    "    type_pids[pids[i]]=i\n",
    "    \n",
    "# 3digital\n",
    "print 'Building pids, dates, strSeqs for 3digit ICD9 code'\n",
    "seqs_3digit = []\n",
    "for pid, visits in pidSeqMap_3digit.iteritems():\n",
    "    seq = []\n",
    "    for visit in visits:\n",
    "        seq.append(visit[1])\n",
    "    seqs_3digit.append(seq)"
   ]
  },
  {
   "cell_type": "code",
   "execution_count": 28,
   "metadata": {},
   "outputs": [
    {
     "data": {
      "text/plain": [
       "1462"
      ]
     },
     "execution_count": 28,
     "metadata": {},
     "output_type": "execute_result"
    }
   ],
   "source": [
    "death_num"
   ]
  },
  {
   "cell_type": "code",
   "execution_count": 29,
   "metadata": {},
   "outputs": [
    {
     "name": "stdout",
     "output_type": "stream",
     "text": [
      "Converting strSeqs to intSeqs, and making types\n",
      "Converting strSeqs to intSeqs, and making types for 3digit ICD9 code\n"
     ]
    }
   ],
   "source": [
    "# 对icd9重新编码，从0开始，获取newSeqs和types对应表\n",
    "print 'Converting strSeqs to intSeqs, and making types'\n",
    "types = {}\n",
    "newSeqs = []\n",
    "for patient in seqs:\n",
    "    newPatient = []\n",
    "    for visit in patient:\n",
    "        newVisit = []\n",
    "        for code in visit:\n",
    "            if code in types:\n",
    "                newVisit.append(types[code])\n",
    "            else:\n",
    "                types[code] = len(types)\n",
    "                newVisit.append(types[code])\n",
    "        newPatient.append(newVisit)\n",
    "    newSeqs.append(newPatient)\n",
    "\n",
    "# 同上\n",
    "print 'Converting strSeqs to intSeqs, and making types for 3digit ICD9 code'\n",
    "types_3digit = {}\n",
    "newSeqs_3digit = []\n",
    "for patient in seqs_3digit:\n",
    "    newPatient = []\n",
    "    for visit in patient:\n",
    "        newVisit = []\n",
    "        for code in set(visit):\n",
    "            if code in types_3digit:\n",
    "                newVisit.append(types_3digit[code])\n",
    "            else:\n",
    "                types_3digit[code] = len(types_3digit)\n",
    "                newVisit.append(types_3digit[code])\n",
    "        newPatient.append(newVisit)\n",
    "    newSeqs_3digit.append(newPatient)"
   ]
  },
  {
   "cell_type": "code",
   "execution_count": 30,
   "metadata": {},
   "outputs": [
    {
     "name": "stdout",
     "output_type": "stream",
     "text": [
      "Re-formatting seqs\n",
      "Re-formatting dates\n"
     ]
    }
   ],
   "source": [
    "# 把病人之间的记录用-1隔开\n",
    "print 'Re-formatting seqs'\n",
    "seqs = []\n",
    "for patient in newSeqs:\n",
    "    seqs.extend(patient)\n",
    "    seqs.append([-1])\n",
    "seqs = seqs[:-1]\n",
    "\n",
    "seqs_3digit = []\n",
    "for patient in newSeqs_3digit:\n",
    "    seqs_3digit.extend(patient)\n",
    "    seqs_3digit.append([-1])\n",
    "seqs_3digit = seqs_3digit[:-1]\n",
    "\n",
    "# 把时间用-1隔开\n",
    "print 'Re-formatting dates'\n",
    "dates2 = []\n",
    "for d in dates:\n",
    "    dates2.extend([d])\n",
    "    dates2.append([-1])\n",
    "dates2 = dates2[:-1]"
   ]
  },
  {
   "cell_type": "code",
   "execution_count": 31,
   "metadata": {},
   "outputs": [],
   "source": [
    "# 每个病人的每个visit的info,性别，年龄（当前visit的时间-病人出生日期）\n",
    "visitspatientsinfo = []\n",
    "for i in range(len(visits_num)):\n",
    "    visitspatientinfo = []\n",
    "    for j in range(visits_num[i][0]):\n",
    "        age=(dates[i][j] - patientsinfo[i][1]).days/365\n",
    "        if age==300: age=90\n",
    "        visitpatientinfo = [patientsinfo[i][0], age]\n",
    "        visitspatientinfo.append(visitpatientinfo)\n",
    "    visitspatientsinfo.append(visitspatientinfo)"
   ]
  },
  {
   "cell_type": "code",
   "execution_count": 32,
   "metadata": {},
   "outputs": [
    {
     "name": "stdout",
     "output_type": "stream",
     "text": [
      "visit_delt_dates\n"
     ]
    }
   ],
   "source": [
    "# visit的时间差，作为TMGRUAE网络的visit层的时间输入\n",
    "print 'visit_delt_dates'\n",
    "visit_delt_dates=[]\n",
    "for date in dates:\n",
    "    if date == [-1] : continue\n",
    "    visit_delt_date=[]\n",
    "    for d in range(len(date)):\n",
    "        if d==0:visit_delt_date.append(0)\n",
    "        else: visit_delt_date.append((date[d]-date[d-1]).days)\n",
    "    visit_delt_dates.append(visit_delt_date)"
   ]
  },
  {
   "cell_type": "code",
   "execution_count": 33,
   "metadata": {},
   "outputs": [],
   "source": [
    "max_day=0\n",
    "for i in range(len(visit_delt_dates)):\n",
    "    for j in range (len(visit_delt_dates[i])):\n",
    "        if max_day<visit_delt_dates[i][j]:\n",
    "            max_day=visit_delt_dates[i][j]\n",
    "        "
   ]
  },
  {
   "cell_type": "code",
   "execution_count": 34,
   "metadata": {},
   "outputs": [
    {
     "data": {
      "text/plain": [
       "343"
      ]
     },
     "execution_count": 34,
     "metadata": {},
     "output_type": "execute_result"
    }
   ],
   "source": [
    "max_day/12"
   ]
  },
  {
   "cell_type": "code",
   "execution_count": 35,
   "metadata": {},
   "outputs": [
    {
     "name": "stdout",
     "output_type": "stream",
     "text": [
      "code_delt_dates\n",
      "codespatientsinfo\n"
     ]
    }
   ],
   "source": [
    "# 一个patient的整个序列的时间，不再区分visit，作为TMGRUAE网络的encoder两层的时间输入\n",
    "print 'code_delt_dates'\n",
    "code_delt_dates=[]\n",
    "for i in range(len(codes_num)):\n",
    "    newdeltdates = []\n",
    "    newdeltdate = []\n",
    "    for j in range(len(codes_num[i])):\n",
    "        newdeltdate.append (visit_delt_dates[i][j])\n",
    "        for k in range(codes_num[i][j]-1):\n",
    "            newdeltdate.append(0)\n",
    "    newdeltdates.extend(newdeltdate)\n",
    "    code_delt_dates.append(newdeltdates)\n",
    "    \n",
    "print 'codespatientsinfo'\n",
    "codespatientsinfo=[]\n",
    "for i in range(len(codes_num)):\n",
    "    newcodespatientinfo = []\n",
    "    newcodepatientinfo = []\n",
    "    for j in range(len(codes_num[i])):\n",
    "        newcodepatientinfo.append (visitspatientsinfo[i][j])\n",
    "        for k in range(codes_num[i][j]-1):\n",
    "            newcodepatientinfo.append([0,0])\n",
    "    newcodespatientinfo.extend(newcodepatientinfo)\n",
    "    codespatientsinfo.append(newcodespatientinfo)\n"
   ]
  },
  {
   "cell_type": "code",
   "execution_count": 36,
   "metadata": {},
   "outputs": [],
   "source": [
    "# code级别的每次住院的年龄\n",
    "# 做差"
   ]
  },
  {
   "cell_type": "code",
   "execution_count": 37,
   "metadata": {},
   "outputs": [
    {
     "name": "stdout",
     "output_type": "stream",
     "text": [
      "codeEach__dates\n"
     ]
    }
   ],
   "source": [
    "print 'codeEach__dates'\n",
    "codeEach__dates=[]\n",
    "for i in range(len(visitspatientsinfo)):\n",
    "    newdeltdates = []\n",
    "    newdeltdate = []\n",
    "    for j in range(len(codes_num[i])):\n",
    "        newdeltdate.append(visitspatientsinfo[i][j][1])\n",
    "        for k in range(codes_num[i][j]-1):\n",
    "            newdeltdate.append(visitspatientsinfo[i][j][1])\n",
    "    newdeltdates.extend(newdeltdate)\n",
    "    codeEach__dates.append(newdeltdates)\n",
    "    "
   ]
  },
  {
   "cell_type": "code",
   "execution_count": 38,
   "metadata": {},
   "outputs": [],
   "source": [
    "codeEachOther_delt_dates=[]\n",
    "for i in range(len(codeEach__dates)):\n",
    "    patient_codedeltadate=[]\n",
    "    for j in range(len(codeEach__dates[i])):\n",
    "        eachcode=[]\n",
    "        for k in range(len(codeEach__dates[i])):\n",
    "            eachcode.append(float(abs(codeEach__dates[i][k]-codeEach__dates[i][j])))\n",
    "        patient_codedeltadate.append(eachcode)\n",
    "        \n",
    "    codeEachOther_delt_dates.append(patient_codedeltadate)\n",
    "            "
   ]
  },
  {
   "cell_type": "code",
   "execution_count": 39,
   "metadata": {},
   "outputs": [
    {
     "name": "stdout",
     "output_type": "stream",
     "text": [
      "patient_code\n"
     ]
    }
   ],
   "source": [
    "# 一个病人所有的code，不区分visit\n",
    "print 'patient_code'\n",
    "patient_code = []\n",
    "for patient in newSeqs:\n",
    "    visit_code=[]\n",
    "    for visit in patient:\n",
    "        visit_code.extend(visit)\n",
    "    patient_code.append(visit_code)\n",
    "\n",
    "patient_codes_3digit = []\n",
    "for patient in newSeqs_3digit:\n",
    "    visit_code=[]\n",
    "    for visit in patient:\n",
    "        visit_code.extend(visit)\n",
    "    patient_codes_3digit.append(visit_code)"
   ]
  },
  {
   "cell_type": "code",
   "execution_count": 40,
   "metadata": {},
   "outputs": [],
   "source": [
    "types2 = {value:key for key,value in types.items()}\n",
    "types_3digit2= {value:key for key,value in types_3digit.items()}\n",
    "type_pids2= {value:key for key,value in type_pids.items()}"
   ]
  },
  {
   "cell_type": "code",
   "execution_count": 41,
   "metadata": {},
   "outputs": [
    {
     "ename": "IOError",
     "evalue": "[Errno 2] No such file or directory: 'SEQ_full/patient_code.seqs'",
     "output_type": "error",
     "traceback": [
      "\u001b[0;31m---------------------------------------------------------------------------\u001b[0m",
      "\u001b[0;31mIOError\u001b[0m                                   Traceback (most recent call last)",
      "\u001b[0;32m<ipython-input-41-8de6a8d39e1a>\u001b[0m in \u001b[0;36m<module>\u001b[0;34m()\u001b[0m\n\u001b[1;32m      1\u001b[0m \u001b[0;31m# 保存序列化\u001b[0m\u001b[0;34m\u001b[0m\u001b[0;34m\u001b[0m\u001b[0m\n\u001b[0;32m----> 2\u001b[0;31m \u001b[0mpickle\u001b[0m\u001b[0;34m.\u001b[0m\u001b[0mdump\u001b[0m\u001b[0;34m(\u001b[0m\u001b[0mpatient_code\u001b[0m\u001b[0;34m,\u001b[0m \u001b[0mopen\u001b[0m\u001b[0;34m(\u001b[0m\u001b[0moutFile\u001b[0m \u001b[0;34m+\u001b[0m \u001b[0;34m'/patient_code'\u001b[0m \u001b[0;34m+\u001b[0m \u001b[0;34m'.seqs'\u001b[0m\u001b[0;34m,\u001b[0m \u001b[0;34m'wb'\u001b[0m\u001b[0;34m)\u001b[0m\u001b[0;34m,\u001b[0m \u001b[0;34m-\u001b[0m\u001b[0;36m1\u001b[0m\u001b[0;34m)\u001b[0m \u001b[0;31m# 一个病人所有的code，不区分visit\u001b[0m\u001b[0;34m\u001b[0m\u001b[0m\n\u001b[0m\u001b[1;32m      3\u001b[0m \u001b[0mpickle\u001b[0m\u001b[0;34m.\u001b[0m\u001b[0mdump\u001b[0m\u001b[0;34m(\u001b[0m\u001b[0mpatientsinfo\u001b[0m\u001b[0;34m,\u001b[0m \u001b[0mopen\u001b[0m\u001b[0;34m(\u001b[0m\u001b[0moutFile\u001b[0m \u001b[0;34m+\u001b[0m \u001b[0;34m'/patientsinfo'\u001b[0m \u001b[0;34m+\u001b[0m \u001b[0;34m'.seqs'\u001b[0m\u001b[0;34m,\u001b[0m \u001b[0;34m'wb'\u001b[0m\u001b[0;34m)\u001b[0m\u001b[0;34m,\u001b[0m \u001b[0;34m-\u001b[0m\u001b[0;36m1\u001b[0m\u001b[0;34m)\u001b[0m \u001b[0;31m# 病人的信息（性别和出生日期）\u001b[0m\u001b[0;34m\u001b[0m\u001b[0m\n\u001b[1;32m      4\u001b[0m \u001b[0mpickle\u001b[0m\u001b[0;34m.\u001b[0m\u001b[0mdump\u001b[0m\u001b[0;34m(\u001b[0m\u001b[0mvisitspatientsinfo\u001b[0m\u001b[0;34m,\u001b[0m \u001b[0mopen\u001b[0m\u001b[0;34m(\u001b[0m\u001b[0moutFile\u001b[0m \u001b[0;34m+\u001b[0m \u001b[0;34m'/visitspatientsinfo'\u001b[0m \u001b[0;34m+\u001b[0m \u001b[0;34m'.seqs'\u001b[0m\u001b[0;34m,\u001b[0m \u001b[0;34m'wb'\u001b[0m\u001b[0;34m)\u001b[0m\u001b[0;34m,\u001b[0m \u001b[0;34m-\u001b[0m\u001b[0;36m1\u001b[0m\u001b[0;34m)\u001b[0m  \u001b[0;31m# 每个病人的每个visit的info\u001b[0m\u001b[0;34m\u001b[0m\u001b[0m\n\u001b[1;32m      5\u001b[0m \u001b[0mpickle\u001b[0m\u001b[0;34m.\u001b[0m\u001b[0mdump\u001b[0m\u001b[0;34m(\u001b[0m\u001b[0mcodespatientsinfo\u001b[0m\u001b[0;34m,\u001b[0m \u001b[0mopen\u001b[0m\u001b[0;34m(\u001b[0m\u001b[0moutFile\u001b[0m \u001b[0;34m+\u001b[0m \u001b[0;34m'/codespatientsinfo'\u001b[0m \u001b[0;34m+\u001b[0m \u001b[0;34m'.seqs'\u001b[0m\u001b[0;34m,\u001b[0m \u001b[0;34m'wb'\u001b[0m\u001b[0;34m)\u001b[0m\u001b[0;34m,\u001b[0m \u001b[0;34m-\u001b[0m\u001b[0;36m1\u001b[0m\u001b[0;34m)\u001b[0m  \u001b[0;31m# 每个病人的每个code的info和code_delt_dates类似\u001b[0m\u001b[0;34m\u001b[0m\u001b[0m\n",
      "\u001b[0;31mIOError\u001b[0m: [Errno 2] No such file or directory: 'SEQ_full/patient_code.seqs'"
     ]
    }
   ],
   "source": [
    "# 保存序列化\n",
    "pickle.dump(patient_code, open(outFile + '/patient_code' + '.seqs', 'wb'), -1) # 一个病人所有的code，不区分visit\n",
    "pickle.dump(patientsinfo, open(outFile + '/patientsinfo' + '.seqs', 'wb'), -1) # 病人的信息（性别和出生日期）\n",
    "pickle.dump(visitspatientsinfo, open(outFile + '/visitspatientsinfo' + '.seqs', 'wb'), -1)  # 每个病人的每个visit的info \n",
    "pickle.dump(codespatientsinfo, open(outFile + '/codespatientsinfo' + '.seqs', 'wb'), -1)  # 每个病人的每个code的info和code_delt_dates类似\n",
    "pickle.dump(code_delt_dates, open(outFile + '/code_delt_dates' + '.seqs', 'wb'), -1)  # code的时间差，一个patient的所有code的时间差\n",
    "pickle.dump(visit_delt_dates, open(outFile + '/visit_delt_dates' + '.seqs', 'wb'), -1) #visit的时间差，一个patient的visit第一个时间差是0\n",
    "pickle.dump(visits_num, open(outFile + '/visits_num' + '.seqs', 'wb'), -1)  # 每个patient的visit的个数visits_num\n",
    "pickle.dump(codes_num, open(outFile + '/codes_num' + '.seqs', 'wb'), -1)  # 每个visit下code的个数codes_num\n",
    "pickle.dump(all_codes_num, open(outFile + '/all_codes_num' + '.seqs', 'wb'), -1)  # 每个patient下code的个数codes_num\n",
    "pickle.dump(pidSeqMap, open(outFile + '/pidSeqMap' + '.seqs', 'wb'), -1)  # pidSeqMap\n",
    "pickle.dump(pids, open(outFile + '/pids' + '.seqs', 'wb'), -1)  # pids\n",
    "pickle.dump(dates, open(outFile + '/dates' + '.seqs', 'wb'), -1)  # dates\n",
    "pickle.dump(dates2, open(outFile + '/dates2' + '.seqs', 'wb'), -1)  # dates2\n",
    "pickle.dump(newSeqs, open(outFile + '/newSeqs' + '.seqs', 'wb'), -1) # 每个病人的visit下的code\n",
    "pickle.dump(seqs, open(outFile + '/seqs' + '.seqs', 'wb'), -1) # 每个病人的visit下的code,-1隔开\n",
    "pickle.dump(types, open(outFile + '/types' + '.seqs', 'wb'), -1) # code的新编码和原编码对照表\n",
    "pickle.dump(types2, open(outFile + '/types2' + '.seqs', 'wb'), -1) # code的新编码和原编码对照表\n",
    "pickle.dump(type_pids, open(outFile + '/type_pids' + '.seqs', 'wb'), -1) #type_pids\n",
    "pickle.dump(type_pids2, open(outFile + '/type_pids2' + '.seqs', 'wb'), -1) #type_pids\n",
    "pickle.dump(death_labels, open(outFile + '/death_labels' + '.seqs', 'wb'), -1) #death_labels\n",
    "pickle.dump(codeEachOther_delt_dates, open(outFile + '/codeEachOther_delt_dates' + '.seqs', 'wb'), -1) #每两个code之间的时间差\n",
    "\n",
    "pickle.dump(patient_codes_3digit, open(outFile + '/patient_codes_3digit' + '.seqs', 'wb'), -1) # 一个病人所有的3code，不区分visit\n",
    "pickle.dump(pidSeqMap_3digit, open(outFile + '/pidSeqMap_3digit' + '.3digitICD9.types', 'wb'), -1)\n",
    "pickle.dump(pids, open(outFile + '/pids' + '.3digitICD9.types', 'wb'), -1)\n",
    "pickle.dump(dates, open(outFile + '/dates' + '.3digitICD9.types', 'wb'), -1)\n",
    "pickle.dump(seqs_3digit, open(outFile + '/seqs'+ '.3digitICD9.seqs', 'wb'), -1)\n",
    "pickle.dump(types_3digit, open(outFile + '/types' + '.3digitICD9.seqs', 'wb'), -1)\n",
    "pickle.dump(types_3digit2, open(outFile + '/types' + '.3digit2ICD9.seqs', 'wb'), -1)"
   ]
  },
  {
   "cell_type": "code",
   "execution_count": 25,
   "metadata": {},
   "outputs": [],
   "source": [
    "#生成一个patient的padding 后的code的彼此的时间差\n",
    "def get_codeEachOther_delt_dates(no,visit_num,code_num):\n",
    "    \n",
    "    codeEachOther_delt_dates_file=open(outFile + '/codeEachOther_delt_dates' + '.seqs','rb')\n",
    "    codeEachOther_delt_dates=pickle.load(codeEachOther_delt_dates_file)\n",
    "    \n",
    "    codeEachOther_delt_dates_file.close()\n",
    "    a=np.zeros([visit_num*code_num,visit_num*code_num])\n",
    "    for i in range(visit_num*code_num):\n",
    "        for j in range(visit_num*code_num):\n",
    "\n",
    "            indexi=0\n",
    "            indexj=0\n",
    "\n",
    "            if codes_num[no][i/code_num] >= code_num:#j/code_num是在那个visit里面\n",
    "                indexi=i%code_num\n",
    "                for k in range(i/code_num):\n",
    "                    indexi+=codes_num[no][k]\n",
    "\n",
    "                if codes_num[no][j/code_num]>=code_num:\n",
    "                    indexj=j%code_num\n",
    "                    for k in range(j/code_num):\n",
    "                        indexj+=codes_num[no][k]\n",
    "                    a[i][j]=codeEachOther_delt_dates[no][indexi][indexj]\n",
    "                else:\n",
    "                    indexj=j%code_num\n",
    "                    if indexj>(codes_num[no][j/code_num]-1): \n",
    "                        a[i][j]=0\n",
    "                        continue\n",
    "                    else:\n",
    "                        for k in range(j/code_num):\n",
    "                            indexj+=codes_num[no][k]\n",
    "                        a[i][j]=codeEachOther_delt_dates[no][indexi][indexj]\n",
    "\n",
    "            else:\n",
    "                indexi=i%code_num\n",
    "                if indexi>(codes_num[no][i/code_num]-1): \n",
    "                    a[i][j]=0\n",
    "                    continue\n",
    "                else:\n",
    "                    for k in range(i/code_num):\n",
    "                        indexi+=codes_num[no][k]\n",
    "                if codes_num[no][j/code_num] >= code_num:\n",
    "                    indexj=j%code_num\n",
    "                    for k in range(j/code_num):\n",
    "                        indexj+=codes_num[no][k]\n",
    "                    a[i][j]=codeEachOther_delt_dates[no][indexi][indexj]  \n",
    "                else:\n",
    "                    indexj=j%code_num\n",
    "                    if indexj > (codes_num[no][j/code_num]-1): \n",
    "                        a[i][j]=0\n",
    "                        continue\n",
    "                    else:\n",
    "                        for k in range(j/code_num):\n",
    "                            indexj+=codes_num[no][k]\n",
    "\n",
    "                        a[i][j]=codeEachOther_delt_dates[no][indexi][indexj]\n",
    "    \n",
    "    return a\n",
    "    \n",
    "    \n",
    "    # batch生成器\n",
    "    # bacth中有cutting和padding，由于长度不同，因此开始学习的时候可以每个数据单独学习\n",
    "    # 生成的batch里的病人visit和code的个数一样\n",
    "def batch_generator(outFile, visit_num, code_num, patient_num, batch_size):\n",
    "    patient_code_file=open(outFile + '/patient_code' + '.seqs','rb')\n",
    "    patient_code=pickle.load(patient_code_file)\n",
    "\n",
    "    codespatientsinfo_file=open(outFile + '/codespatientsinfo' + '.seqs','rb')\n",
    "    codespatientsinfo=pickle.load(codespatientsinfo_file)\n",
    "\n",
    "    visit_delt_dates_file=open(outFile + '/visit_delt_dates' + '.seqs','rb')\n",
    "    visit_delt_dates=pickle.load(visit_delt_dates_file)\n",
    "\n",
    "    code_delt_dates_file=open(outFile + '/code_delt_dates' + '.seqs','rb')\n",
    "    code_delt_dates=pickle.load(code_delt_dates_file)\n",
    "\n",
    "\n",
    "\n",
    "    visits_num_file=open(outFile + '/visits_num' + '.seqs','rb')\n",
    "    visits_num=pickle.load(visits_num_file)\n",
    "\n",
    "    codes_num_file=open(outFile + '/codes_num' + '.seqs','rb')\n",
    "    codes_num=pickle.load(codes_num_file)\n",
    "\n",
    "    death_labels_file=open(outFile + '/death_labels' + '.seqs','rb')\n",
    "    death_labels=pickle.load(death_labels_file)\n",
    "\n",
    "    patient_code_file.close()\n",
    "    codespatientsinfo_file.close()\n",
    "    visit_delt_dates_file.close()\n",
    "    code_delt_dates_file.close()\n",
    "    visits_num_file.close()\n",
    "    codes_num_file.close()\n",
    "\n",
    "    batch_patient_code=[]\n",
    "    batch_code_delt_dates=[]\n",
    "    batch_codespatientsinfo=[]\n",
    "    batch_visit_delt_dates=[]\n",
    "    batch_labels=[]\n",
    "    batch_codeEachOther_delt_dates=[]\n",
    "\n",
    "    # padding and cutting\n",
    "    for i in range(batch_size):\n",
    "        j=random.randint(0, patient_num-1)\n",
    "        if visits_num[j][0]== visit_num:\n",
    "           # print 'pick',j\n",
    "            code=[]\n",
    "            code_date=[]\n",
    "            code_info=[]\n",
    "            codeEachOther_dates=[]\n",
    "            for k in range(visit_num):\n",
    "                if  codes_num[j][k]> code_num:\n",
    "                    if k==0: \n",
    "                        code.extend(patient_code[j][0:code_num])\n",
    "                        code_date.extend(code_delt_dates[j][0:code_num])\n",
    "                        code_info.extend(codespatientsinfo[j][0:code_num])\n",
    "\n",
    "                    else:\n",
    "                        start=k*codes_num[j][k-1]\n",
    "                        code.extend(patient_code[j][start :start+code_num])\n",
    "                        code_date.extend(code_delt_dates[j][start:start+code_num])\n",
    "                        code_info.extend(codespatientsinfo[j][start:start+code_num])\n",
    "\n",
    "\n",
    "                elif codes_num[j][k] < code_num:\n",
    "                    if k==0:\n",
    "                        code.extend(patient_code[j][:codes_num[j][k]])\n",
    "                        code.extend([0]*(code_num-codes_num[j][k]))\n",
    "                        code_date.extend(code_delt_dates[j][:codes_num[j][k]])\n",
    "                        code_date.extend([0]*(code_num-codes_num[j][k]))\n",
    "                        code_info.extend(codespatientsinfo[j][:codes_num[j][k]])\n",
    "                        code_info.extend([[0,0]]*(code_num-codes_num[j][k]))\n",
    "\n",
    "                    else:\n",
    "                        start2=0\n",
    "                        for n in range(k):\n",
    "                            start2+=codes_num[j][n]\n",
    "                        code.extend(patient_code[j][start2: start2+codes_num[j][k]])\n",
    "                        code.extend([0]*(code_num-codes_num[j][k]))\n",
    "                        code_date.extend(code_delt_dates[j][start2:start2+codes_num[j][k]])\n",
    "                        code_date.extend([0]*(code_num-codes_num[j][k]))\n",
    "                        code_info.extend(codespatientsinfo[j][start2:start2+codes_num[j][k]])\n",
    "                        code_info.extend([[0,0]]*(code_num-codes_num[j][k]))\n",
    "                else:\n",
    "                    code.extend(patient_code[j])\n",
    "                    code_date.extend(code_delt_dates[j])\n",
    "                    code_info.extend(codespatientsinfo[j])\n",
    "\n",
    "            batch_patient_code.append(code)\n",
    "            batch_code_delt_dates.append(code_date)  \n",
    "            batch_codespatientsinfo.append(code_info)\n",
    "            batch_labels.append(death_labels[j])\n",
    "            batch_codeEachOther_delt_dates.append(get_codeEachOther_delt_dates(j,visit_num,code_num))\n",
    "    return batch_patient_code, batch_codespatientsinfo, batch_code_delt_dates,batch_labels,batch_codeEachOther_delt_dates\n",
    "        "
   ]
  },
  {
   "cell_type": "code",
   "execution_count": 26,
   "metadata": {
    "scrolled": true
   },
   "outputs": [],
   "source": [
    "outFile='SEQ'\n",
    "batch_size=4\n",
    "visit_num=2 #visit_num=random.randint() \n",
    "code_num=10 #code_num=random.randint() # code_num=visit_length\n",
    "patient_num=14 #病人的总个数\n",
    "xindex, info, t,batch_labels,batch_codeEachOther_delt_dates = batch_generator(outFile, visit_num, code_num, patient_num,batch_size)"
   ]
  },
  {
   "cell_type": "code",
   "execution_count": 28,
   "metadata": {},
   "outputs": [],
   "source": [
    "a=batch_codeEachOther_delt_dates[:][:(visit_num-1)*code_num][:(visit_num-1)*code_num]"
   ]
  },
  {
   "cell_type": "code",
   "execution_count": 31,
   "metadata": {},
   "outputs": [
    {
     "data": {
      "text/plain": [
       "20"
      ]
     },
     "execution_count": 31,
     "metadata": {},
     "output_type": "execute_result"
    }
   ],
   "source": [
    "len(a[0][0])"
   ]
  },
  {
   "cell_type": "code",
   "execution_count": null,
   "metadata": {},
   "outputs": [],
   "source": [
    "admissionFile = '数据/ADMISSIONS.csv'"
   ]
  }
 ],
 "metadata": {
  "kernelspec": {
   "display_name": "Python 2",
   "language": "python",
   "name": "python2"
  },
  "language_info": {
   "codemirror_mode": {
    "name": "ipython",
    "version": 2
   },
   "file_extension": ".py",
   "mimetype": "text/x-python",
   "name": "python",
   "nbconvert_exporter": "python",
   "pygments_lexer": "ipython2",
   "version": "2.7.16"
  }
 },
 "nbformat": 4,
 "nbformat_minor": 2
}
