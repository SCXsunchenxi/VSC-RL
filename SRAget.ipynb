{
 "cells": [
  {
   "cell_type": "code",
   "execution_count": 1,
   "metadata": {},
   "outputs": [],
   "source": [
    "import sys\n",
    "import cPickle as pickle\n",
    "from datetime import datetime\n",
    "import numpy as np\n",
    "import random\n",
    "import math"
   ]
  },
  {
   "cell_type": "code",
   "execution_count": 2,
   "metadata": {},
   "outputs": [],
   "source": [
    "# icd-9编码处理\n",
    "\n",
    "# 还原icd，保留最后两位小数点\n",
    "def convert_to_icd9(dxStr):\n",
    "    if dxStr.startswith('E'):\n",
    "        if len(dxStr) > 4:\n",
    "            return dxStr[:4] + '.' + dxStr[4:]\n",
    "        else:\n",
    "            return dxStr\n",
    "    else:\n",
    "        if len(dxStr) > 3:\n",
    "            return dxStr[:3] + '.' + dxStr[3:]\n",
    "        else:\n",
    "            return dxStr\n",
    "        \n",
    "# 只取前三位数据，不保留小数点\n",
    "def convert_to_3digit_icd9(dxStr):\n",
    "    if dxStr.startswith('E'):\n",
    "        if len(dxStr) > 4:\n",
    "            return dxStr[:4]\n",
    "        else:\n",
    "            return dxStr\n",
    "    else:\n",
    "        if len(dxStr) > 3:\n",
    "            return dxStr[:3]\n",
    "        else:\n",
    "            return dxStr"
   ]
  },
  {
   "cell_type": "code",
   "execution_count": 3,
   "metadata": {},
   "outputs": [],
   "source": [
    "dataFile = 'MIMICIII'\n",
    "outFile = 'SRA'"
   ]
  },
  {
   "cell_type": "code",
   "execution_count": 5,
   "metadata": {},
   "outputs": [
    {
     "name": "stdout",
     "output_type": "stream",
     "text": [
      "Building pid-admission mapping, pid-death mapping, admission-date mapping\n"
     ]
    }
   ],
   "source": [
    "# pidAdmMap映射pid到admid，admDateMap映射admid到admtime\n",
    "print 'Building pid-admission mapping, pid-death mapping, admission-date mapping'\n",
    "all_death_num=0\n",
    "pidAdmMap = {}\n",
    "admDateMap = {}\n",
    "pidDeathMap= {}\n",
    "infd = open(dataFile+'/ADMISSIONS.csv', 'r')\n",
    "infd.readline()\n",
    "for line in infd:\n",
    "    tokens = line.strip().split(',')\n",
    "    pid = int(tokens[1])\n",
    "    admId = int(tokens[2])\n",
    "    admTime = datetime.strptime(tokens[3], '%Y-%m-%d %H:%M:%S')\n",
    "    admDateMap[admId] = admTime\n",
    "    if pid in pidAdmMap:\n",
    "        pidAdmMap[pid].append(admId)\n",
    "    else:\n",
    "        pidAdmMap[pid] = [admId]\n",
    "    if tokens[5] != '':\n",
    "        pidDeathMap[pid]=1\n",
    "        all_death_num+=1\n",
    "    else:\n",
    "        if pid not in pidDeathMap:\n",
    "            pidDeathMap[pid]=0      \n",
    "infd.close()"
   ]
  },
  {
   "cell_type": "code",
   "execution_count": 7,
   "metadata": {},
   "outputs": [
    {
     "name": "stdout",
     "output_type": "stream",
     "text": [
      "Building patient information\n"
     ]
    }
   ],
   "source": [
    "# pidGenBirthMap人的基本信息（性别、年龄、婚姻、人种、宗教），先使用性别和年龄\n",
    "print 'Building patient information'\n",
    "pidGenBirthMap={}\n",
    "infd = open(dataFile+'/PATIENTS.csv', 'r')\n",
    "infd.readline();\n",
    "for line in infd:\n",
    "    tokens = line.strip().split(',')\n",
    "    pid = int(tokens[1])\n",
    "    if tokens[2]=='F':gender = 0\n",
    "    else: gender = 1\n",
    "    birth = datetime.strptime(tokens[3], '%Y-%m-%d %H:%M:%S')\n",
    "    pidGenBirthMap[pid] = [gender,birth]\n",
    "infd.close()"
   ]
  },
  {
   "cell_type": "code",
   "execution_count": 10,
   "metadata": {},
   "outputs": [
    {
     "name": "stdout",
     "output_type": "stream",
     "text": [
      "Building admission-dxList mapping\n"
     ]
    }
   ],
   "source": [
    "# 创建admission-dxList mapping，admDxMap映射admid到在这个住院中的诊断的icd9码\n",
    "print 'Building admission-dxList mapping'\n",
    "admDxMap = {}\n",
    "admDxMap_3digit = {}\n",
    "dx_icd={} #icd和dx的映射\n",
    "dx_icd2={} #前面是dx码，后面是icd码\n",
    "infd = open(dataFile+'/DIAGNOSES_ICD.csv', 'r')\n",
    "infd.readline()\n",
    "raw_all_codes_num=0\n",
    "for line in infd:\n",
    "    raw_all_codes_num+=1\n",
    "    tokens = line.strip().split(',')\n",
    "    admId = int(tokens[2])\n",
    "    dxStr = 'D_' + convert_to_icd9(tokens[4])\n",
    "    dxStr_3digit = 'D_' + convert_to_3digit_icd9(tokens[4])\n",
    "    \n",
    "    if admId in admDxMap:\n",
    "        admDxMap[admId].append(dxStr)\n",
    "    else:\n",
    "        admDxMap[admId] = [dxStr]\n",
    "\n",
    "    if admId in admDxMap_3digit:\n",
    "        admDxMap_3digit[admId].append(dxStr_3digit)\n",
    "    else:\n",
    "        admDxMap_3digit[admId] = [dxStr_3digit]\n",
    "        \n",
    "    if dxStr in dx_icd:\n",
    "        continue\n",
    "    else:\n",
    "        dx_icd[dxStr]=tokens[4]\n",
    "        dx_icd2[tokens[4]]=dxStr\n",
    "infd.close()"
   ]
  },
  {
   "cell_type": "code",
   "execution_count": 23,
   "metadata": {},
   "outputs": [
    {
     "name": "stdout",
     "output_type": "stream",
     "text": [
      "Building pid-sortedVisits mapping\n"
     ]
    }
   ],
   "source": [
    "# sortedList按照时间储存了[时间，icd9诊断]对，pidSeqMap存入每个病人的sortedList\n",
    "print 'Building pid-sortedVisits mapping'\n",
    "pidSeqMap = {}\n",
    "pidSeqMap_3digit = {}\n",
    "for pid, admIdList in pidAdmMap.iteritems():\n",
    "    sortedList = sorted([(admDateMap[admId], admDxMap[admId]) for admId in admIdList])\n",
    "    pidSeqMap[pid] = sortedList\n",
    "\n",
    "    sortedList_3digit = sorted([(admDateMap[admId], admDxMap_3digit[admId]) for admId in admIdList])\n",
    "    pidSeqMap_3digit[pid] = sortedList_3digit"
   ]
  },
  {
   "cell_type": "code",
   "execution_count": 52,
   "metadata": {},
   "outputs": [],
   "source": [
    "# 心力衰竭的病人\n",
    "HF_patient={}\n",
    "HF_patient_code=[]#含有HF的病人编号\n",
    "for i in pidSeqMap:\n",
    "    for j in range(len(pidSeqMap[i])):\n",
    "        code=pidSeqMap[i][j][1]\n",
    "        for dx in code:\n",
    "            if (dx == 'D_\"42.80\"') or (dx == 'D_\"42.81\"')or(dx == 'D_\"42.82\"')or(dx == 'D_\"42.83\"')or(dx == 'D_\"42.84\"')or (dx == 'D_\"42.89\"')or(dx == 'D_\"42.820\"')or(dx == 'D_\"42.821\"')or(dx == 'D_\"42.822\"')or(dx == 'D_\"42.823\"')or(dx == 'D_\"42.830\"')or(dx == 'D_\"42.831\"')or(dx == 'D_\"42.832\"')or(dx == 'D_\"42.833\"')or(dx == 'D_\"42.840\"')or(dx == 'D_\"42.841\"')or(dx == 'D_\"42.842\"')or(dx == 'D_\"42.843\"'):\n",
    "                if i in HF_patient:\n",
    "                    continue\n",
    "                else:\n",
    "                    HF_patient[i]=pidSeqMap[i]\n",
    "                    HF_patient_code.append(i)\n",
    "                    "
   ]
  },
  {
   "cell_type": "code",
   "execution_count": 46,
   "metadata": {},
   "outputs": [],
   "source": [
    "# 心力衰竭的记录\n",
    "HF_record={}\n",
    "record_code=[] #含有HF的住院编号\n",
    "lastad_record_code=[]\n",
    "n=0\n",
    "for i in pidSeqMap:\n",
    "    for j in range(len(pidSeqMap[i])):\n",
    "        code=pidSeqMap[i][j][1]\n",
    "        if j==len(pidSeqMap[i])-1:\n",
    "            lastad_record_code.append(i)\n",
    "        for dx in code:\n",
    "            if (dx == 'D_\"42.80\"') or (dx == 'D_\"42.81\"')or(dx == 'D_\"42.82\"')or(dx == 'D_\"42.83\"')or(dx == 'D_\"42.84\"')or (dx == 'D_\"42.89\"')or(dx == 'D_\"42.820\"')or(dx == 'D_\"42.821\"')or(dx == 'D_\"42.822\"')or(dx == 'D_\"42.823\"')or(dx == 'D_\"42.830\"')or(dx == 'D_\"42.831\"')or(dx == 'D_\"42.832\"')or(dx == 'D_\"42.833\"')or(dx == 'D_\"42.840\"')or(dx == 'D_\"42.841\"')or(dx == 'D_\"42.842\"')or(dx == 'D_\"42.843\"'):\n",
    "                HF_record[n]=pidSeqMap[i][j]\n",
    "                n=n+1\n",
    "                record_code.append(pidAdmMap[i][j])\n",
    "                break"
   ]
  },
  {
   "cell_type": "code",
   "execution_count": 47,
   "metadata": {},
   "outputs": [
    {
     "data": {
      "text/plain": [
       "13608"
      ]
     },
     "execution_count": 47,
     "metadata": {},
     "output_type": "execute_result"
    }
   ],
   "source": [
    "#HF患者总数\n",
    "n"
   ]
  },
  {
   "cell_type": "code",
   "execution_count": 32,
   "metadata": {},
   "outputs": [],
   "source": [
    "# 死亡的HF患者总数\n",
    "death_code_num=0\n",
    "for i in range(len(lastad_record_code)):\n",
    "    if pidDeathMap[lastad_record_code[i]]==1:\n",
    "        death_code_num+=1"
   ]
  },
  {
   "cell_type": "code",
   "execution_count": 33,
   "metadata": {},
   "outputs": [
    {
     "data": {
      "text/plain": [
       "5813"
      ]
     },
     "execution_count": 33,
     "metadata": {},
     "output_type": "execute_result"
    }
   ],
   "source": [
    "death_code_num"
   ]
  },
  {
   "cell_type": "code",
   "execution_count": 66,
   "metadata": {},
   "outputs": [
    {
     "name": "stdout",
     "output_type": "stream",
     "text": [
      "Building admission-BP mapping\n"
     ]
    },
    {
     "ename": "KeyboardInterrupt",
     "evalue": "",
     "output_type": "error",
     "traceback": [
      "\u001b[0;31m---------------------------------------------------------------------------\u001b[0m",
      "\u001b[0;31mKeyboardInterrupt\u001b[0m                         Traceback (most recent call last)",
      "\u001b[0;32m<ipython-input-66-a4d364473821>\u001b[0m in \u001b[0;36m<module>\u001b[0;34m()\u001b[0m\n\u001b[1;32m      8\u001b[0m     \u001b[0mtokens\u001b[0m \u001b[0;34m=\u001b[0m \u001b[0mline\u001b[0m\u001b[0;34m.\u001b[0m\u001b[0mstrip\u001b[0m\u001b[0;34m(\u001b[0m\u001b[0;34m)\u001b[0m\u001b[0;34m.\u001b[0m\u001b[0msplit\u001b[0m\u001b[0;34m(\u001b[0m\u001b[0;34m','\u001b[0m\u001b[0;34m)\u001b[0m\u001b[0;34m\u001b[0m\u001b[0m\n\u001b[1;32m      9\u001b[0m     \u001b[0madmId\u001b[0m \u001b[0;34m=\u001b[0m \u001b[0mint\u001b[0m\u001b[0;34m(\u001b[0m\u001b[0mtokens\u001b[0m\u001b[0;34m[\u001b[0m\u001b[0;36m2\u001b[0m\u001b[0;34m]\u001b[0m\u001b[0;34m)\u001b[0m\u001b[0;34m\u001b[0m\u001b[0m\n\u001b[0;32m---> 10\u001b[0;31m     \u001b[0;32mif\u001b[0m \u001b[0;34m(\u001b[0m\u001b[0madmId\u001b[0m \u001b[0;32min\u001b[0m \u001b[0mrecord_code\u001b[0m\u001b[0;34m)\u001b[0m\u001b[0;34m:\u001b[0m\u001b[0;34m\u001b[0m\u001b[0m\n\u001b[0m\u001b[1;32m     11\u001b[0m         \u001b[0;32mif\u001b[0m \u001b[0;34m(\u001b[0m\u001b[0mint\u001b[0m\u001b[0;34m(\u001b[0m\u001b[0mtokens\u001b[0m\u001b[0;34m[\u001b[0m\u001b[0;36m4\u001b[0m\u001b[0;34m]\u001b[0m\u001b[0;34m)\u001b[0m\u001b[0;34m==\u001b[0m\u001b[0;36m455\u001b[0m\u001b[0;34m)\u001b[0m\u001b[0;34m:\u001b[0m\u001b[0;34m\u001b[0m\u001b[0m\n\u001b[1;32m     12\u001b[0m             \u001b[0;32mif\u001b[0m \u001b[0madmId\u001b[0m \u001b[0;32min\u001b[0m \u001b[0madmSBPMap\u001b[0m\u001b[0;34m:\u001b[0m\u001b[0;34m\u001b[0m\u001b[0m\n",
      "\u001b[0;31mKeyboardInterrupt\u001b[0m: "
     ]
    }
   ],
   "source": [
    "# pidAdmMap映射pid到admid，admDateMap映射admid到admtime\n",
    "print 'Building admission-BP mapping'\n",
    "admSBPMap = {}\n",
    "admDBPMap= {}\n",
    "infd = open(dataFile+'/CHARTEVENTS.csv', 'r')\n",
    "infd.readline()\n",
    "for line in infd:\n",
    "    tokens = line.strip().split(',')\n",
    "    admId = int(tokens[2])\n",
    "    if (admId in record_code):\n",
    "        if (int(tokens[4])==455):\n",
    "            if admId in admSBPMap:\n",
    "                admSBPMap[admId].append(int(tokens[8]))\n",
    "            else:\n",
    "                admSBPMap[admId] = [int(tokens[8])]  \n",
    "        if (int(tokens[4])==8441):\n",
    "            if admId in admSBPMap:\n",
    "                admDBPMap[admId].append(int(tokens[8]))\n",
    "            else:\n",
    "                admDBPMap[admId] = [int(tokens[8])]  \n",
    "                 \n",
    "infd.close()"
   ]
  },
  {
   "cell_type": "markdown",
   "metadata": {},
   "source": [
    "d_itm/d_labitem\n",
    "\n",
    "Creatine Kinase: CK (CPK) 225634   /50910\n",
    "Creatinine: Creatinine 220615/1525   /50912\n",
    "Lactate Dehydrogenase: LDH 817/220632    /50954\n",
    "Asparate Aminotransferase: AST 770/220587\n",
    "CK_MB index: CK-MB 227445  /50908\n",
    "Alanine Aminotransferase(ALT): urine for AA 6225   /50861\n",
    "Serum Glutamic-Pyruvic Transaminase : SGPT 3802\n",
    "Serum Glutamic-Oxaloacetic Transaminase: SGOT 3801\n",
    "Hematocrit: Hematocrit 813     /51221\n",
    "Hemoglobin: Hemoglobin 814   /51222\n",
    "Platelet Count: Platelet Count 6256    /51265\n",
    "White Blood Cells: WBC 1542/220546    /51301\n",
    "Red Blood Cells: RBC 833    /51279\n",
    "mean corpuscular hemoglobin (MCH): 51248\n",
    "Magnesium: Magnesium 1532/40645/44088/220635   /50960\n",
    "Potassium: Potassium 1535/41956/44711/42728   /50971\n",
    "Calcium: Calcium 44441/43747/44855/1522   /50893\n",
    "Glucose: Glucose 1529    /50931\n",
    "Chloride: Chloride 1523   /50902\n",
    "Bicarbonate: Bicarbonate 46362   /50882\n",
    "Sodium: Sodium 1536   /50983\n",
    "free calcium: Ionized calcium 816/1350/8177/8325/225667   /50808\n",
    "Daily Weight: Daily Weight: 163/224639\n",
    "Heart Rate: Heart Rate 211/220045\n",
    "Arterial pH: Arterial pH 780\n",
    "Arterial PaCO2: Arterial PaCO2 778\n",
    "Arterial PaO2: Arterial PaO2 779"
   ]
  },
  {
   "cell_type": "code",
   "execution_count": null,
   "metadata": {},
   "outputs": [],
   "source": []
  }
 ],
 "metadata": {
  "kernelspec": {
   "display_name": "Python 2",
   "language": "python",
   "name": "python2"
  },
  "language_info": {
   "codemirror_mode": {
    "name": "ipython",
    "version": 2
   },
   "file_extension": ".py",
   "mimetype": "text/x-python",
   "name": "python",
   "nbconvert_exporter": "python",
   "pygments_lexer": "ipython2",
   "version": "2.7.16"
  }
 },
 "nbformat": 4,
 "nbformat_minor": 2
}
